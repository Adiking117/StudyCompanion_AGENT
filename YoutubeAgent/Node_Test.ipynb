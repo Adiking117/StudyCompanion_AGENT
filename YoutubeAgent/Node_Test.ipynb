{
 "cells": [
  {
   "cell_type": "code",
   "execution_count": 1,
   "id": "61f9bd73",
   "metadata": {},
   "outputs": [],
   "source": [
    "from dotenv import load_dotenv\n",
    "from langchain_groq import ChatGroq\n",
    "\n",
    "load_dotenv()\n",
    "chat_model=ChatGroq(model=\"llama3-8b-8192\")"
   ]
  },
  {
   "cell_type": "code",
   "execution_count": 2,
   "id": "5ff9ae8f",
   "metadata": {},
   "outputs": [],
   "source": [
    "from youtube_transcript_api import YouTubeTranscriptApi\n",
    "\n",
    "def fetch_transcript(video_id: str):\n",
    "    ytt_api = YouTubeTranscriptApi()\n",
    "    fetched_transcript = ytt_api.fetch(video_id)\n",
    "\n",
    "    # Combine all snippet texts into one string\n",
    "    combined_text = \" \".join(snippet.text for snippet in fetched_transcript)\n",
    "    return combined_text"
   ]
  },
  {
   "cell_type": "code",
   "execution_count": 3,
   "id": "49a7c1a8",
   "metadata": {},
   "outputs": [
    {
     "data": {
      "text/plain": [
       "'Hello everyone. I\\'m back with one more story for you all. A proud parrot. Once there lived a parrot in a big tree. He was proud of his beautiful green wings and red beak. He saw a crow and thought how ugly the crow wings are. Then the crow replied, \"Though I am ugly, my wings will help me to fly high for longer distances.\" And no one will try to catch me. Do you know that the parrot moved closer to the crow and showed his beautiful feathers to the crow? Just then, a man arrived with a cage to catch the pirate. The man caught the parrot and kept it in the cage. Moral of the story, don\\'t be proud of yourself. See you again with one more story. Thank you.'"
      ]
     },
     "execution_count": 3,
     "metadata": {},
     "output_type": "execute_result"
    }
   ],
   "source": [
    "video_id = \"PVa2_hl2EqE\"\n",
    "transcript = fetch_transcript(video_id)\n",
    "transcript"
   ]
  },
  {
   "cell_type": "code",
   "execution_count": 4,
   "id": "e622392a",
   "metadata": {},
   "outputs": [],
   "source": [
    "from typing import Any\n",
    "\n",
    "# Step 2: Title Generator Node\n",
    "def generate_blog_title(transcript: str) -> str:\n",
    "    \"\"\"\n",
    "    Generates an engaging blog-style title from a transcript.\n",
    "\n",
    "    Args:\n",
    "        transcript (str): The raw transcript text.\n",
    "        chat_model (Any): An LLM client instance with an `.invoke(prompt)` method.\n",
    "\n",
    "    Returns:\n",
    "        str: The generated blog title.\n",
    "    \"\"\"\n",
    "    prompt = f\"\"\"Generate an engaging blog-style title for this transcript:\n",
    "\n",
    "Transcript:\n",
    "{transcript}\n",
    "\"\"\"\n",
    "    response = chat_model.invoke(prompt).content\n",
    "    return response # type: ignore\n"
   ]
  },
  {
   "cell_type": "code",
   "execution_count": null,
   "id": "8a944dfe",
   "metadata": {},
   "outputs": [],
   "source": [
    "blog_title = generate_blog_title(transcript)"
   ]
  },
  {
   "cell_type": "code",
   "execution_count": 5,
   "id": "243ea198",
   "metadata": {},
   "outputs": [],
   "source": [
    "# Step 3: Content Generator Node\n",
    "def generate_blog_content(transcript: str) -> str:\n",
    "    \"\"\"\n",
    "    Expands a transcript into a well-structured blog article.\n",
    "\n",
    "    Args:\n",
    "        transcript (str): The raw transcript text.\n",
    "        llm_client (Any): An LLM client instance with a `.generate(prompt)` method.\n",
    "\n",
    "    Returns:\n",
    "        str: The generated blog article with intro, body, and conclusion.\n",
    "    \"\"\"\n",
    "    prompt = f\"\"\"Expand this transcript into a well-structured blog article \n",
    "with an introduction, body, and conclusion:\n",
    "\n",
    "Transcript:\n",
    "{transcript}\n",
    "\"\"\"\n",
    "    response = chat_model.invoke(prompt).content\n",
    "    return response # type: ignore\n"
   ]
  },
  {
   "cell_type": "code",
   "execution_count": null,
   "id": "5927b1a5",
   "metadata": {},
   "outputs": [],
   "source": [
    "blog_content = generate_blog_content(transcript)"
   ]
  },
  {
   "cell_type": "code",
   "execution_count": 6,
   "id": "0cb91768",
   "metadata": {},
   "outputs": [],
   "source": [
    "def merge_blog_title_and_content(title: str, content: str) -> dict:\n",
    "    \"\"\"\n",
    "    Combines a generated blog title and blog content into a dictionary.\n",
    "\n",
    "    Args:\n",
    "        title (str): The blog title.\n",
    "        content (str): The blog body (intro, body, conclusion).\n",
    "\n",
    "    Returns:\n",
    "        dict: A dictionary with 'title' and 'content' keys.\n",
    "    \"\"\"\n",
    "    return {\n",
    "        \"title\": title.strip(),\n",
    "        \"content\": content.strip()\n",
    "    }\n"
   ]
  },
  {
   "cell_type": "code",
   "execution_count": null,
   "id": "79578975",
   "metadata": {},
   "outputs": [],
   "source": [
    "final_blog = merge_blog_title_and_content(blog_title,blog_content)"
   ]
  },
  {
   "cell_type": "code",
   "execution_count": 7,
   "id": "b074380c",
   "metadata": {},
   "outputs": [],
   "source": [
    "final_blog = {\n",
    "  \"title\": \"The Battlefield Within: Applying Arjuna’s Dilemma to Modern Decision-Making\",\n",
    "  \"content\": (\n",
    "        \"In the moments before battle, Arjuna wrestled with doubt and duty. \"\n",
    "        \"His struggle mirrors ours when we face tough choices at work or home. \"\n",
    "        \"Discover three practical steps drawn from Bhagavad-Gītā 2.11–2.30 that help you \"\n",
    "        \"overcome paralysis by analysis and act with confidence.\"\n",
    "    )\n",
    "}"
   ]
  },
  {
   "cell_type": "code",
   "execution_count": null,
   "id": "f14d912e",
   "metadata": {},
   "outputs": [],
   "source": [
    "import os\n",
    "import requests\n",
    "\n",
    "def publish_blog_to_facebook(final_blog: dict) -> dict:\n",
    "    \"\"\"\n",
    "    Publishes a blog post to a Facebook Page feed, then retrieves its id, message, and created_time.\n",
    "    \n",
    "    Environment Variables:\n",
    "        FACEBOOK_PAGE_ID            – the target Page ID\n",
    "        FACEBOOK_PAGE_TOKEN         – a valid Page access token\n",
    "        FACEBOOK_GRAPH_API_VERSION  – Graph API version (default: v16.0)\n",
    "    \n",
    "    Args:\n",
    "        final_blog: A dict with keys \"title\" and \"content\".\n",
    "    \n",
    "    Returns:\n",
    "        A dict containing the published post's id, message, and created_time.\n",
    "    \n",
    "    Raises:\n",
    "        RuntimeError: If either the POST or GET request fails.\n",
    "    \"\"\"\n",
    "    page_id            = os.getenv(\"FACEBOOK_PAGE_ID\")\n",
    "    page_access_token  = os.getenv(\"FACEBOOK_PAGE_TOKEN\")\n",
    "    graph_api_version  = os.getenv(\"FACEBOOK_GRAPH_API_VERSION\", \"v16.0\")\n",
    "\n",
    "    if not page_id or not page_access_token:\n",
    "        raise RuntimeError(\"Missing FACEBOOK_PAGE_ID or FACEBOOK_PAGE_TOKEN environment variable\")\n",
    "\n",
    "    message_text = f\"{final_blog.get('title', '')}\\n\\n{final_blog.get('content', '')}\"\n",
    "\n",
    "    post_url = f\"https://graph.facebook.com/{graph_api_version}/{page_id}/feed\"\n",
    "    post_params = {\n",
    "        \"message\": message_text,\n",
    "        \"access_token\": page_access_token\n",
    "    }\n",
    "    post_resp = requests.post(post_url, data=post_params)\n",
    "    if not post_resp.ok:\n",
    "        raise RuntimeError(f\"Failed to publish post: {post_resp.text}\")\n",
    "    post_id = post_resp.json().get(\"id\")\n",
    "    if not post_id:\n",
    "        raise RuntimeError(f\"No post ID returned: {post_resp.text}\")\n",
    "\n",
    "    # 2) GET /{post_id}?fields=id,message,created_time\n",
    "    get_url = f\"https://graph.facebook.com/{graph_api_version}/{post_id}\"\n",
    "    get_params = {\n",
    "        \"fields\": \"id,message,created_time\",\n",
    "        \"access_token\": page_access_token\n",
    "    }\n",
    "    get_resp = requests.get(get_url, params=get_params)\n",
    "    if not get_resp.ok:\n",
    "        raise RuntimeError(f\"Failed to retrieve post data: {get_resp.text}\")\n",
    "\n",
    "    return get_resp.json()\n"
   ]
  },
  {
   "cell_type": "code",
   "execution_count": 9,
   "id": "3aedaf57",
   "metadata": {},
   "outputs": [],
   "source": [
    "post_info = publish_blog_to_facebook(final_blog)\n"
   ]
  },
  {
   "cell_type": "code",
   "execution_count": 10,
   "id": "8663b2ce",
   "metadata": {},
   "outputs": [
    {
     "data": {
      "text/plain": [
       "{'id': '756801380851537_122097779288990927',\n",
       " 'message': 'The Battlefield Within: Applying Arjuna’s Dilemma to Modern Decision-Making\\n\\nIn the moments before battle, Arjuna wrestled with doubt and duty. His struggle mirrors ours when we face tough choices at work or home. Discover three practical steps drawn from Bhagavad-Gītā 2.11–2.30 that help you overcome paralysis by analysis and act with confidence.',\n",
       " 'created_time': '2025-08-22T07:12:56+0000'}"
      ]
     },
     "execution_count": 10,
     "metadata": {},
     "output_type": "execute_result"
    }
   ],
   "source": [
    "post_info"
   ]
  },
  {
   "attachments": {
    "image.png": {
     "image/png": "[encoded data removed]"
    }
   },
   "cell_type": "markdown",
   "id": "60fa31a8",
   "metadata": {},
   "source": [
    "![image.png](attachment:image.png)"
   ]
  },
  {
   "cell_type": "code",
   "execution_count": null,
   "id": "fc6c6c4f",
   "metadata": {},
   "outputs": [],
   "source": [
    "import os\n",
    "import requests\n",
    "from typing import Dict\n",
    "\n",
    "def publish_blog_to_instagram(state: Dict) -> Dict:\n",
    "    \"\"\"\n",
    "    Publishes a blog post to Instagram by creating a media object and publishing it.\n",
    "    Reads 'blog' and 'image_url' from state, then updates 'finalpost'.\n",
    "    \n",
    "    Environment Variables:\n",
    "        INSTAGRAM_PAGE_ID           – the Instagram Business Account ID (not user ID!)\n",
    "        FACEBOOK_PAGE_TOKEN         – a valid Page access token (with instagram_basic, pages_show_list, instagram_content_publish)\n",
    "        FACEBOOK_GRAPH_API_VERSION  – Graph API version (default: v16.0)\n",
    "    \"\"\"\n",
    "    ig_account_id     = os.getenv(\"INSTAGRAM_PAGE_ID\")\n",
    "    access_token      = os.getenv(\"FACEBOOK_PAGE_TOKEN\")\n",
    "    graph_api_version = os.getenv(\"FACEBOOK_GRAPH_API_VERSION\", \"v16.0\")\n",
    "\n",
    "    if not ig_account_id or not access_token:\n",
    "        raise RuntimeError(\"Missing INSTAGRAM_PAGE_ID or FACEBOOK_PAGE_TOKEN environment variables\")\n",
    "\n",
    "    blog = state.get(\"blog\", {})\n",
    "    image_url = state.get(\"image_url\", \"\")\n",
    "\n",
    "    if not blog:\n",
    "        raise ValueError(\"No blog found in state to publish\")\n",
    "    if not image_url:\n",
    "        raise ValueError(\"No image_url found in state for Instagram post\")\n",
    "\n",
    "    caption_text = f\"{blog.get('title', '')}\\n\\n{blog.get('content', '')}\"\n",
    "\n",
    "    # Step 1: Create media object\n",
    "    media_url = f\"https://graph.facebook.com/{graph_api_version}/{ig_account_id}/media\"\n",
    "    media_params = {\n",
    "        \"image_url\": image_url,\n",
    "        \"caption\": caption_text,\n",
    "        \"access_token\": access_token\n",
    "    }\n",
    "    media_resp = requests.post(media_url, data=media_params)\n",
    "    if not media_resp.ok:\n",
    "        raise RuntimeError(f\"Failed to create Instagram media: {media_resp.text}\")\n",
    "    media_id = media_resp.json().get(\"id\")\n",
    "    if not media_id:\n",
    "        raise RuntimeError(f\"No media ID returned: {media_resp.text}\")\n",
    "\n",
    "    # Step 2: Publish the media object\n",
    "    publish_url = f\"https://graph.facebook.com/{graph_api_version}/{ig_account_id}/media_publish\"\n",
    "    publish_params = {\n",
    "        \"creation_id\": media_id,\n",
    "        \"access_token\": access_token\n",
    "    }\n",
    "    publish_resp = requests.post(publish_url, data=publish_params)\n",
    "    if not publish_resp.ok:\n",
    "        raise RuntimeError(f\"Failed to publish Instagram post: {publish_resp.text}\")\n",
    "\n",
    "    # Return updated state with finalpost\n",
    "    return {\n",
    "        \"finalpost\": publish_resp.json()\n",
    "    }\n"
   ]
  },
  {
   "cell_type": "code",
   "execution_count": null,
   "id": "885a0454",
   "metadata": {},
   "outputs": [],
   "source": []
  },
  {
   "cell_type": "code",
   "execution_count": null,
   "id": "a6ea5196",
   "metadata": {},
   "outputs": [],
   "source": []
  },
  {
   "cell_type": "code",
   "execution_count": null,
   "id": "6fc1b37f",
   "metadata": {},
   "outputs": [],
   "source": []
  },
  {
   "cell_type": "code",
   "execution_count": null,
   "id": "44ba62b6",
   "metadata": {},
   "outputs": [],
   "source": []
  },
  {
   "cell_type": "code",
   "execution_count": null,
   "id": "90284ddd",
   "metadata": {},
   "outputs": [],
   "source": []
  },
  {
   "cell_type": "code",
   "execution_count": null,
   "id": "b5002435",
   "metadata": {},
   "outputs": [],
   "source": []
  },
  {
   "cell_type": "code",
   "execution_count": null,
   "id": "e6f3989d",
   "metadata": {},
   "outputs": [],
   "source": []
  }
 ],
 "metadata": {
  "kernelspec": {
   "display_name": ".venv",
   "language": "python",
   "name": "python3"
  },
  "language_info": {
   "codemirror_mode": {
    "name": "ipython",
    "version": 3
   },
   "file_extension": ".py",
   "mimetype": "text/x-python",
   "name": "python",
   "nbconvert_exporter": "python",
   "pygments_lexer": "ipython3",
   "version": "3.13.5"
  }
 },
 "nbformat": 4,
 "nbformat_minor": 5
}
